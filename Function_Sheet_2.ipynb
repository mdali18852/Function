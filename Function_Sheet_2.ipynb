{
  "nbformat": 4,
  "nbformat_minor": 0,
  "metadata": {
    "colab": {
      "provenance": [],
      "authorship_tag": "ABX9TyMiLhfFPpXigrKvXJOdVmD0",
      "include_colab_link": true
    },
    "kernelspec": {
      "name": "python3",
      "display_name": "Python 3"
    },
    "language_info": {
      "name": "python"
    }
  },
  "cells": [
    {
      "cell_type": "markdown",
      "metadata": {
        "id": "view-in-github",
        "colab_type": "text"
      },
      "source": [
        "<a href=\"https://colab.research.google.com/github/mdali18852/Function/blob/main/Function_Sheet_2.ipynb\" target=\"_parent\"><img src=\"https://colab.research.google.com/assets/colab-badge.svg\" alt=\"Open In Colab\"/></a>"
      ]
    },
    {
      "cell_type": "markdown",
      "source": [
        "#Function Sheet-2\n"
      ],
      "metadata": {
        "id": "eKLrm-2_J2kF"
      }
    },
    {
      "cell_type": "code",
      "source": [
        "#Q 1. What is the difference between a function and a method in Python?\n",
        "\n",
        "#Function:-\n",
        "# Function is the block of code which can call to other functions.Functions in Python are used to improve code organization,\n",
        "#reusability, and maintainability,etc.\n",
        "\n",
        "def calculate_sum(a,b):             #parameter 'a' and 'b'\n",
        "    return a+b\n",
        "sum=calculate_sum(10,20)            #calling function, arguments 10 and 20\n",
        "print(\"Adding of two number is: \",sum)\n",
        "\n",
        "#Method:-\n",
        "\n",
        "\n",
        "#\n"
      ],
      "metadata": {
        "colab": {
          "base_uri": "https://localhost:8080/"
        },
        "id": "orPvlBv8MFkY",
        "outputId": "8de118dd-2044-41cb-da31-856683266fa5"
      },
      "execution_count": null,
      "outputs": [
        {
          "output_type": "stream",
          "name": "stdout",
          "text": [
            "Adding of two number is:  30\n"
          ]
        }
      ]
    },
    {
      "cell_type": "code",
      "source": [
        "# 2. Explain the concept of function arguments and parameters in Python\n",
        "\n",
        "\n",
        "# Parameter:-\n",
        "'''\n",
        "==> Parameters are the variables listed inside the function definition.\n",
        "==> Parameters are used in the function definition.\n",
        "\n",
        " '''\n",
        "# Arguments:-\n",
        "'''\n",
        "==> Arguments are the actual values passed to the function when it is called.\n",
        "==> These values are assigned to the parameters in the function definition.\n",
        "'''\n",
        "def Function_Addition(num1,num2):  #Parameter is 'num1' and' 'num2'\n",
        "    return num1+num2\n",
        "calling_obj=Function_Addition(20,30) #Arguments is '20' and '30'\n",
        "print(\"Addition of two number is: \",calling_obj)\n"
      ],
      "metadata": {
        "colab": {
          "base_uri": "https://localhost:8080/"
        },
        "id": "0qKYZfqDPdh2",
        "outputId": "979935bf-e6c9-4ff7-c282-d0985f877067"
      },
      "execution_count": null,
      "outputs": [
        {
          "output_type": "stream",
          "name": "stdout",
          "text": [
            "Addition of two number is:  50\n"
          ]
        }
      ]
    },
    {
      "cell_type": "code",
      "source": [
        "# 3. What are the different ways to define and call a function in Python?\n",
        "\n",
        "#In Python, there are several ways to define and call a function\n",
        "'''\n",
        "(i). Defining a Simple Function\n",
        "A basic function is defined using the 'def' keyword. You can then call it by using its name followed by parentheses.\n",
        "'''\n",
        "def Simple_Function(): #Definition Function\n",
        "  print(\"This Simple function in python\")\n",
        "Simple_Function()     #Calling Function\n",
        "\n",
        "'''\n",
        "(ii). Function with Parameters\n",
        "Functions can accept parameters to perform operations on the provided values.\n",
        "'''\n",
        "\n",
        "def Parameter_fuction(name):\n",
        "    print(f\"This is Your name, {name}\")\n",
        "\n",
        "Parameter_fuction(\"Md Alimullah\")\n",
        "\n",
        "'''\n",
        "(iii) Function with Return Value:-\n",
        "A function can return a value using the return keyword.\n",
        "'''\n",
        "def fun_with_return(a,b):\n",
        "        return a*b\n",
        "call_obj=fun_with_return(10,20)\n",
        "print(\"Multiply by two number is: \",call_obj)\n",
        "\n",
        "# (iv) Lambda Functions (Anonymous Functions)\n",
        "'''\n",
        "A lambda function is a small, anonymous function defined using the lambda keyword\n",
        "'''\n",
        "square = lambda x: x * x\n",
        "\n",
        "print(\"Square of 5 number is: \",square(5))  # Output: 16\n",
        "\n",
        "# (v). Function with Default Arguments\n",
        "'''\n",
        "You can define default values for parameters in the function definition. If no argument is provided, the default value is used.\n",
        "'''\n",
        "\n",
        "def greet(name=\"Guest\"):\n",
        "    print(f\"Hello, {name}!\")\n",
        "\n",
        "greet()       # Output: Hello, Guest!\n",
        "greet(\"John\") # Output: Hello, John!\n",
        "\n",
        "\n"
      ],
      "metadata": {
        "colab": {
          "base_uri": "https://localhost:8080/"
        },
        "id": "q-tTD5dNwgJy",
        "outputId": "8540d00e-f530-4608-d577-1a3e37389c9c"
      },
      "execution_count": null,
      "outputs": [
        {
          "output_type": "stream",
          "name": "stdout",
          "text": [
            "This Simple function in python\n",
            "This is Your name, Md Alimullah\n",
            "Multiply by two number is:  200\n",
            "Square of 5 number is:  25\n",
            "Hello, Guest!\n",
            "Hello, John!\n"
          ]
        }
      ]
    },
    {
      "cell_type": "code",
      "source": [
        "#Q. 4 What is the purpose of the `return` statement in a Python function?\n",
        "\n",
        "'''\n",
        "Returns a value:\n",
        "The return statement sends a result from the function back to the place where the function was called.\n",
        "\n",
        "Terminates the function:\n",
        "When the return statement is executed, the function immediately stops, and no further code in that function is executed\n",
        "'''\n",
        "\n",
        "def Function_Sum(a, b):\n",
        "    return a + b  # Returns the sum of a and b\n",
        "\n",
        "result = Function_Sum(5, 3)  # Calls the function and stores the returned value\n",
        "print(result)  # Output: 8\n"
      ],
      "metadata": {
        "id": "ETUNCrdTIZqs"
      },
      "execution_count": null,
      "outputs": []
    },
    {
      "cell_type": "code",
      "source": [
        "#Q. 5. What are iterators in Python and how do they differ from iterables?\n",
        "\n",
        "#Iterable:\n",
        "'''\n",
        "An iterable is any object in Python that can return an iterator.\n",
        "An iterable is an object that can be looped over (like a list, tuple, string, or dictionary).\n",
        "It has an __iter__() method used that returns an iterator object.\n",
        "Examples of iterables: lists, tuples, strings, dictionaries, sets.\n",
        "'''\n",
        "# Iterable\n",
        "my_list = [1, 2, 3, 4, 5]\n",
        "\n",
        "# Create an iterator from the iterable\n",
        "my_iterator = iter(my_list)\n",
        "\n",
        "# Iterate through the iterator\n",
        "print(next(my_iterator))  # Output: 1\n",
        "print(next(my_iterator))  # Output: 2\n",
        "print(next(my_iterator))  # Output: 3\n",
        "print(next(my_iterator))  # Output: 4\n",
        "print(next(my_iterator))  # Output: 5\n",
        "\n",
        "\n",
        "\n",
        "#Iterator:\n",
        "'''\n",
        "An iterator is an object that represents a stream of data. It is used to iterate over an iterable.\n",
        "\n",
        "It implements two key methods:\n",
        "__iter__(): Returns the iterator object itself.\n",
        "__next__(): Returns the next item in the sequence. Once the items are exhausted, it raises the StopIteration exception.\n",
        "'''\n"
      ],
      "metadata": {
        "colab": {
          "base_uri": "https://localhost:8080/",
          "height": 157
        },
        "id": "QyECO5HjJe4p",
        "outputId": "76a5d01b-72ed-4851-c4e5-51782a506288"
      },
      "execution_count": null,
      "outputs": [
        {
          "output_type": "stream",
          "name": "stdout",
          "text": [
            "1\n",
            "2\n",
            "3\n",
            "4\n",
            "5\n"
          ]
        },
        {
          "output_type": "execute_result",
          "data": {
            "text/plain": [
              "'\\nAn iterator is an object that represents a stream of data. It is used to iterate over an iterable. \\n\\nIt implements two key methods:\\n__iter__(): Returns the iterator object itself.\\n__next__(): Returns the next item in the sequence. Once the items are exhausted, it raises the StopIteration exception.\\n'"
            ],
            "application/vnd.google.colaboratory.intrinsic+json": {
              "type": "string"
            }
          },
          "metadata": {},
          "execution_count": 12
        }
      ]
    },
    {
      "cell_type": "code",
      "source": [
        "#6. Explain the concept of generators in Python and how they are defined.\n",
        "\n",
        "'''\n",
        "A generator is a special type of function in Python that allows you to iterate over a sequence of values, but instead of returning all the values at once,\n",
        "it yields one value at a time when needed. This makes generators very efficient because they don't require storing all the values in memory.\n",
        "\n",
        "Key Points to Understand:\n",
        "\n",
        "Memory Efficient:\n",
        "Generators don't store all the values in memory. They generate values one by one as you ask for them.\n",
        "\n",
        "Lazy Evaluation:\n",
        "This means the values are produced only when needed, not in advance.\n",
        "yield Keyword: This is the magic behind generators. When a function uses yield, it becomes a generator.\n",
        "'''\n",
        "#How Are Generators Defined?\n",
        "#Generators are created by defining a function using the 'yield' keyword.\n",
        "\n",
        "def my_generator():   #Function definition\n",
        "    yield 1\n",
        "    yield 2\n",
        "    yield 3\n",
        "\n",
        "# Create object for calling\n",
        "gen = my_generator()\n",
        "\n",
        "# For generateing the value\n",
        "print(next(gen))  # 1\n",
        "print(next(gen))  # 2\n",
        "print(next(gen))  # 3\n",
        "\n",
        "\n",
        "\n",
        "\n"
      ],
      "metadata": {
        "id": "CmhIH4NgZAki",
        "colab": {
          "base_uri": "https://localhost:8080/"
        },
        "outputId": "37099c2f-f5f4-47c5-ded1-a3f4cd3d16b3"
      },
      "execution_count": null,
      "outputs": [
        {
          "output_type": "stream",
          "name": "stdout",
          "text": [
            "1\n",
            "2\n"
          ]
        }
      ]
    },
    {
      "cell_type": "code",
      "source": [
        "# 7. What are the advantages of using generators over regular functions?\n",
        "\n",
        "# Memory Efficiency:\n",
        "'''\n",
        "Generators are memory efficient because they generate values on-the-fly (lazily) and don’t store the entire sequence in memory at once.\n",
        "\n",
        "Generators do not store the entire sequence of values in memory. Instead, they yield one value at a time and generate the next only when requested\n",
        "'''\n",
        "def generate_numbers(n):\n",
        "    return [x for x in range(n)]  # Returns the entire list\n",
        "\n",
        "# Performance\n",
        "'''\n",
        "Generators yield one item at a time, which means they only compute what’s needed, leading to better performance, especially when working with large data.\n",
        "'''\n",
        "\n",
        "#Chaining and Pipelining:\n",
        "'''\n",
        "Generators can be easily chained together, allowing you to create data processing pipelines that are both memory and time-efficient.\n",
        "'''\n",
        "\n",
        "'''\n",
        "Generators allow pausing and resuming execution with the yield statement, providing fine control over iteration.\n",
        "'''\n"
      ],
      "metadata": {
        "id": "1iGh68sZiFR1"
      },
      "execution_count": null,
      "outputs": []
    },
    {
      "cell_type": "code",
      "source": [
        "# 8. What is a lambda function in Python and when is it typically used?\n",
        "\n",
        "#Lambda Function in Python\n",
        "'''\n",
        "A lambda function in Python is an anonymous, small, and simple function defined using the lambda keyword.\n",
        "Unlike regular functions that are defined using the def keyword, lambda functions are typically used for\n",
        "short-term operations where defining a full function is unnecessary.\n",
        "'''\n",
        "# lambda arguments: expression\n",
        "'''\n",
        "lambda:\n",
        "The keyword that indicates a lambda function.\n",
        "\n",
        "arguments:\n",
        "A list of input parameters, similar to regular function arguments.\n",
        "\n",
        "expression:\n",
        "A single expression that is evaluated and returned. Lambda functions cannot have multiple expressions or statements.\n",
        "'''\n",
        "# A simple lambda function that adds two numbers\n",
        "\n",
        "add = lambda x, y: x + y\n",
        "\n",
        "print(add(5, 3))  # Output: 8\n",
        "\n",
        "\n",
        "\n",
        "\n",
        "\n"
      ],
      "metadata": {
        "id": "6WV6KYrpo_UQ"
      },
      "execution_count": null,
      "outputs": []
    },
    {
      "cell_type": "code",
      "source": [
        "# 9. Explain the purpose and usage of the `map()` function in Python.\n",
        "\n",
        "# Purpose of the map() Function in Python\n",
        "'''\n",
        "The map() function in Python is a built-in higher-order function used to apply a given function to all items in an iterable\n",
        "(e.g., list, tuple, etc.) and return an iterator (map object) that yields the results. It is commonly used to transform elements in a collection,\n",
        "applying a function to each element without the need for explicit loops.\n",
        "'''\n",
        "\n",
        "# map(function, iterable, ...)\n",
        "'''\n",
        "function:\n",
        "A function that will be applied to each element of the iterable(s).\n",
        "\n",
        "iterable:\n",
        "An iterable (e.g., list, tuple) whose elements will be passed to the function. You can also pass multiple iterables.\n",
        "'''\n",
        "#Usage of map():\n",
        "'''\n",
        "Applying a Single Function to All Elements:\n",
        "\n",
        "You can use map() to apply a function to each item in an iterable, such as transforming values or performing calculations.\n",
        "'''\n",
        "\n",
        "numbers = [1, 2, 3, 4]\n",
        "result = map(lambda x: x * 2, numbers)  # Multiply each element by 2\n",
        "print(list(result))  # Output: [2, 4, 6, 8]\n",
        "\n",
        "\n"
      ],
      "metadata": {
        "colab": {
          "base_uri": "https://localhost:8080/"
        },
        "id": "bq8okyB_rIXl",
        "outputId": "84d3fffb-3b59-45ac-8f4b-b6d0e289ed8a"
      },
      "execution_count": null,
      "outputs": [
        {
          "output_type": "stream",
          "name": "stdout",
          "text": [
            "[2, 4, 6, 8]\n"
          ]
        }
      ]
    },
    {
      "cell_type": "code",
      "source": [
        "# 10. What is the difference between `map()`, `reduce()`, and `filter()` functions in Python?\n",
        "\n",
        "'''\n",
        "The map(), reduce(), and filter() functions are built-in higher-order functions in Python that are commonly used in\n",
        "functional programming to process iterables in different ways. They all apply a function to an iterable,\n",
        "but the key difference lies in how they handle the results.\n",
        "'''\n",
        "# 1. map() Function:\n",
        "'''\n",
        "Purpose:\n",
        "The map() function applies a given function to each item of an iterable (such as a list, tuple, etc.)\n",
        "and returns an iterator that yields the transformed results.\n",
        "\n",
        "Return Type:\n",
        "It returns an iterator (which can be converted to a list or other collection types).\n",
        "\n",
        "Usage:\n",
        "Typically used when you want to apply the same operation to each element in an iterable and get a transformed iterable as the result.\n",
        "'''\n",
        "\n",
        "numbers = [1, 2, 3, 4]\n",
        "result = map(lambda x: x * 2, numbers)  # Multiply each number by 2\n",
        "print(list(result))  # Output: [2, 4, 6, 8]\n",
        "\n",
        "# 2. filter() Function:\n",
        "'''\n",
        "Purpose:\n",
        "The filter() function filters elements from an iterable by applying a given function that returns True or False.\n",
        "It keeps only the items where the function returns True and discards the rest.\n",
        "\n",
        "Return Type:\n",
        "It returns an iterator, containing only the items that satisfy the filtering condition.\n",
        "\n",
        "Usage:\n",
        "Typically used when you want to filter out elements based on a condition.\n",
        "'''\n",
        "numbers = [1, 2, 3, 4, 5, 6]\n",
        "result = filter(lambda x: x % 2 == 0, numbers)  # Keep only even\n",
        "\n",
        "\n",
        "# 3. reduce():\n",
        "'''\n",
        "Purpose:\n",
        "Applies a binary function (i.e., a function that takes two arguments) cumulatively to the items of an iterable, reducing them to a single value.\n",
        "\n",
        "Syntax:\n",
        "reduce(function, iterable)\n",
        "\n",
        "Usage:\n",
        "reduce() is used when you need to reduce an iterable to a single cumulative result (like summing or multiplying all elements).\n",
        "'''\n",
        "from functools import reduce\n",
        "numbers = [1, 2, 3, 4]\n",
        "result = reduce(lambda x, y: x + y, numbers)\n",
        "print(result)  # Output: 10\n",
        "\n",
        "\n",
        "\n",
        "\n"
      ],
      "metadata": {
        "id": "3KzgIQU9vnRE"
      },
      "execution_count": null,
      "outputs": []
    },
    {
      "cell_type": "markdown",
      "source": [
        "#Practical Questions"
      ],
      "metadata": {
        "id": "Nc3065B_ErHb"
      }
    },
    {
      "cell_type": "code",
      "source": [
        "# Q 1. Write a Python function that takes a list of numbers as input and returns the sum of all even numbers in the list.\n",
        "\n",
        "def sum_of_evens(numbers):\n",
        "    # Initialize a variable to store the sum\n",
        "    total = 0\n",
        "\n",
        "    # Iterate through each number in the list\n",
        "    for number in numbers:\n",
        "        # Check if the number is even\n",
        "        if number % 2 == 0:\n",
        "            # Add the even number to the total\n",
        "            total += number\n",
        "\n",
        "    # Return the sum of even numbers\n",
        "    return total\n",
        "\n",
        "# Example usage:\n",
        "numbers = [1, 2, 3, 4, 5, 6, 7, 8, 9, 10]\n",
        "result = sum_of_evens(numbers)\n",
        "print(\"Sum of even numbers:\", result)"
      ],
      "metadata": {
        "id": "oL0ArlQb1G8n",
        "colab": {
          "base_uri": "https://localhost:8080/"
        },
        "outputId": "bd80bfc2-2b43-4592-b401-4efadd24a68f"
      },
      "execution_count": 1,
      "outputs": [
        {
          "output_type": "stream",
          "name": "stdout",
          "text": [
            "Sum of even numbers: 30\n"
          ]
        }
      ]
    },
    {
      "cell_type": "code",
      "source": [
        "#Q 2. Create a Python function that accepts a string and returns the reverse of that string.\n",
        "\n",
        "def reverse_string(input_string):\n",
        "    # Use slicing to reverse the string\n",
        "    reversed_string = input_string[::-1]\n",
        "    return reversed_string\n",
        "\n",
        "# Example usage:\n",
        "input_string = \"Hello, World!\"\n",
        "result = reverse_string(input_string)\n",
        "print(\"Reversed string:\", result)\n"
      ],
      "metadata": {
        "colab": {
          "base_uri": "https://localhost:8080/"
        },
        "id": "3jeMUBKJ5-9s",
        "outputId": "cd1226a6-4314-434a-bdff-25bc27ce3f9b"
      },
      "execution_count": 2,
      "outputs": [
        {
          "output_type": "stream",
          "name": "stdout",
          "text": [
            "Reversed string: !dlroW ,olleH\n"
          ]
        }
      ]
    },
    {
      "cell_type": "code",
      "source": [
        "#Q 3. Implement a Python function that takes a list of integers and returns a new list containing the squares ofeach number.\n",
        "\n",
        "def square_numbers(numbers):\n",
        "    # Use a list comprehension to square each number in the list\n",
        "    squared_list = [number ** 2 for number in numbers]\n",
        "    return squared_list\n",
        "\n",
        "# Example usage:\n",
        "numbers = [1, 2, 3, 4, 5]\n",
        "result = square_numbers(numbers)\n",
        "print(\"Squared numbers:\", result)"
      ],
      "metadata": {
        "colab": {
          "base_uri": "https://localhost:8080/"
        },
        "id": "n4FU0W3g6lQp",
        "outputId": "d3db0923-1de4-49a2-ae57-abb3cb57385f"
      },
      "execution_count": 3,
      "outputs": [
        {
          "output_type": "stream",
          "name": "stdout",
          "text": [
            "Squared numbers: [1, 4, 9, 16, 25]\n"
          ]
        }
      ]
    },
    {
      "cell_type": "code",
      "source": [
        "#Q 4. Write a Python function that checks if a given number is prime or not from 1 to 200.\n",
        "\n",
        "def is_prime(number):\n",
        "    # Handle edge cases for numbers less than 2\n",
        "    if number < 2:\n",
        "        return False\n",
        "    # Check for factors from 2 to the square root of the number\n",
        "    for i in range(2, int(number**0.5) + 1):\n",
        "        if number % i == 0:\n",
        "            return False\n",
        "    return True\n",
        "\n",
        "# Example usage:\n",
        "for num in range(1, 201):\n",
        "    if is_prime(num):\n",
        "        print(f\"{num} is a prime number.\")"
      ],
      "metadata": {
        "colab": {
          "base_uri": "https://localhost:8080/"
        },
        "id": "WViwK1e47IGc",
        "outputId": "8c6a1e1c-6f63-418c-8a14-e8d498cf49d9"
      },
      "execution_count": 4,
      "outputs": [
        {
          "output_type": "stream",
          "name": "stdout",
          "text": [
            "2 is a prime number.\n",
            "3 is a prime number.\n",
            "5 is a prime number.\n",
            "7 is a prime number.\n",
            "11 is a prime number.\n",
            "13 is a prime number.\n",
            "17 is a prime number.\n",
            "19 is a prime number.\n",
            "23 is a prime number.\n",
            "29 is a prime number.\n",
            "31 is a prime number.\n",
            "37 is a prime number.\n",
            "41 is a prime number.\n",
            "43 is a prime number.\n",
            "47 is a prime number.\n",
            "53 is a prime number.\n",
            "59 is a prime number.\n",
            "61 is a prime number.\n",
            "67 is a prime number.\n",
            "71 is a prime number.\n",
            "73 is a prime number.\n",
            "79 is a prime number.\n",
            "83 is a prime number.\n",
            "89 is a prime number.\n",
            "97 is a prime number.\n",
            "101 is a prime number.\n",
            "103 is a prime number.\n",
            "107 is a prime number.\n",
            "109 is a prime number.\n",
            "113 is a prime number.\n",
            "127 is a prime number.\n",
            "131 is a prime number.\n",
            "137 is a prime number.\n",
            "139 is a prime number.\n",
            "149 is a prime number.\n",
            "151 is a prime number.\n",
            "157 is a prime number.\n",
            "163 is a prime number.\n",
            "167 is a prime number.\n",
            "173 is a prime number.\n",
            "179 is a prime number.\n",
            "181 is a prime number.\n",
            "191 is a prime number.\n",
            "193 is a prime number.\n",
            "197 is a prime number.\n",
            "199 is a prime number.\n"
          ]
        }
      ]
    },
    {
      "cell_type": "code",
      "source": [
        "#Q 5. Create an iterator class in Python that generates the Fibonacci sequence up to a specified number of terms.\n",
        "class FibonacciIterator:\n",
        "    def __init__(self, num_terms):\n",
        "        self.num_terms = num_terms  # Number of terms to generate\n",
        "        self.current_term = 0       # Current term in the sequence\n",
        "        self.next_term = 1          # Next term in the sequence\n",
        "        self.count = 0              # Counter to track the number of terms generated\n",
        "\n",
        "    def __iter__(self):\n",
        "        return self  # Return the iterator object itself\n",
        "\n",
        "    def __next__(self):\n",
        "        if self.count >= self.num_terms:\n",
        "            raise StopIteration  # Stop iteration when the specified number of terms is reached\n",
        "        else:\n",
        "            result = self.current_term  # Store the current term to return\n",
        "            # Update terms for the next iteration\n",
        "            self.current_term, self.next_term = self.next_term, self.current_term + self.next_term\n",
        "            self.count += 1  # Increment the counter\n",
        "            return result\n",
        "\n",
        "# Example usage:\n",
        "num_terms = 10  # Number of Fibonacci terms to generate\n",
        "fibonacci_sequence = FibonacciIterator(num_terms)\n",
        "\n",
        "# Print the Fibonacci sequence\n",
        "print(f\"First {num_terms} terms of the Fibonacci sequence:\")\n",
        "for term in fibonacci_sequence:\n",
        "    print(term, end=\" \")"
      ],
      "metadata": {
        "colab": {
          "base_uri": "https://localhost:8080/"
        },
        "id": "u2Y7H2Hb_oeh",
        "outputId": "48d79272-6994-48c1-8722-b271b77c3136"
      },
      "execution_count": 5,
      "outputs": [
        {
          "output_type": "stream",
          "name": "stdout",
          "text": [
            "First 10 terms of the Fibonacci sequence:\n",
            "0 1 1 2 3 5 8 13 21 34 "
          ]
        }
      ]
    },
    {
      "cell_type": "code",
      "source": [
        "#Q 6. Write a generator function in Python that yields the powers of 2 up to a given exponent.\n",
        "\n",
        "def powers_of_two(max_exponent):\n",
        "    # Iterate through exponents from 0 to max_exponent\n",
        "    for exponent in range(max_exponent + 1):\n",
        "        yield 2 ** exponent  # Yield the power of 2 for the current exponent\n",
        "\n",
        "# Example usage:\n",
        "max_exponent = 5\n",
        "print(f\"Powers of 2 up to exponent {max_exponent}:\")\n",
        "for power in powers_of_two(max_exponent):\n",
        "    print(power, end=\" \")"
      ],
      "metadata": {
        "colab": {
          "base_uri": "https://localhost:8080/"
        },
        "id": "64rRnbbTANan",
        "outputId": "1ae3902d-4ce7-49e6-ea27-12a8bc64244f"
      },
      "execution_count": 6,
      "outputs": [
        {
          "output_type": "stream",
          "name": "stdout",
          "text": [
            "Powers of 2 up to exponent 5:\n",
            "1 2 4 8 16 32 "
          ]
        }
      ]
    },
    {
      "cell_type": "code",
      "source": [
        "#Q 7. Use a lambda function in Python to sort a list of tuples based on the second element of each tuple.\n",
        "\n",
        "# List of tuples\n",
        "list_of_tuples = [(1, 4), (2, 1), (3, 5), (4, 2), (5, 3)]\n",
        "\n",
        "# Sort the list of tuples based on the second element of each tuple\n",
        "sorted_list = sorted(list_of_tuples, key=lambda x: x[1])\n",
        "\n",
        "# Print the sorted list\n",
        "print(\"Sorted list of tuples based on the second element:\")\n",
        "print(sorted_list)"
      ],
      "metadata": {
        "colab": {
          "base_uri": "https://localhost:8080/"
        },
        "id": "GdPzebVDBsJy",
        "outputId": "e21f7441-f8e8-4caa-a21d-42541ef5d835"
      },
      "execution_count": 8,
      "outputs": [
        {
          "output_type": "stream",
          "name": "stdout",
          "text": [
            "Sorted list of tuples based on the second element:\n",
            "[(2, 1), (4, 2), (5, 3), (1, 4), (3, 5)]\n"
          ]
        }
      ]
    },
    {
      "cell_type": "code",
      "source": [
        "#Q 8. Write a Python program that uses `map()` to convert a list of temperatures from Celsius to Fahrenheit.\n",
        "\n",
        "# Function to convert Celsius to Fahrenheit\n",
        "def celsius_to_fahrenheit(celsius):\n",
        "    return (celsius * 9/5) + 32\n",
        "\n",
        "# List of temperatures in Celsius\n",
        "celsius_temperatures = [0, 10, 20, 30, 40]\n",
        "\n",
        "# Use map() to apply the conversion function to each temperature in the list\n",
        "fahrenheit_temperatures = list(map(celsius_to_fahrenheit, celsius_temperatures))\n",
        "\n",
        "# Print the converted temperatures\n",
        "print(\"Temperatures in Celsius:\", celsius_temperatures)\n",
        "print(\"Temperatures in Fahrenheit:\", fahrenheit_temperatures)"
      ],
      "metadata": {
        "colab": {
          "base_uri": "https://localhost:8080/"
        },
        "id": "8WCSN6_jCuvr",
        "outputId": "c6199202-fcae-428b-c12c-16dcf2a6d044"
      },
      "execution_count": 9,
      "outputs": [
        {
          "output_type": "stream",
          "name": "stdout",
          "text": [
            "Temperatures in Celsius: [0, 10, 20, 30, 40]\n",
            "Temperatures in Fahrenheit: [32.0, 50.0, 68.0, 86.0, 104.0]\n"
          ]
        }
      ]
    },
    {
      "cell_type": "code",
      "source": [
        "#Q 9. Create a Python program that uses `filter()` to remove all the vowels from a given string.\n",
        "\n",
        "# Function to check if a character is a vowel\n",
        "def is_not_vowel(char):\n",
        "    # Convert the character to lowercase to handle both uppercase and lowercase vowels\n",
        "    return char.lower() not in {'a', 'e', 'i', 'o', 'u'}\n",
        "\n",
        "# Given string\n",
        "input_string = \"Hello, World!\"\n",
        "\n",
        "# Use filter() to remove vowels from the string\n",
        "filtered_string = ''.join(filter(is_not_vowel, input_string))\n",
        "\n",
        "# Print the result\n",
        "print(\"Original string:\", input_string)\n",
        "print(\"String without vowels:\", filtered_string)\n"
      ],
      "metadata": {
        "colab": {
          "base_uri": "https://localhost:8080/"
        },
        "id": "6832Iy_uDKJk",
        "outputId": "6c0d52e9-f222-4b5c-936c-05cf73f42de9"
      },
      "execution_count": 10,
      "outputs": [
        {
          "output_type": "stream",
          "name": "stdout",
          "text": [
            "Original string: Hello, World!\n",
            "String without vowels: Hll, Wrld!\n"
          ]
        }
      ]
    }
  ]
}